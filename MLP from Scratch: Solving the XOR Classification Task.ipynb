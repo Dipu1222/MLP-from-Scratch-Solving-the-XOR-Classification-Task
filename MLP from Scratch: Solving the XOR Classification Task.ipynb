{
  "nbformat": 4,
  "nbformat_minor": 0,
  "metadata": {
    "colab": {
      "provenance": [],
      "authorship_tag": "ABX9TyO70UgrfDvEUiqhW8IBHxAD",
      "include_colab_link": true
    },
    "kernelspec": {
      "name": "python3",
      "display_name": "Python 3"
    },
    "language_info": {
      "name": "python"
    }
  },
  "cells": [
    {
      "cell_type": "markdown",
      "metadata": {
        "id": "view-in-github",
        "colab_type": "text"
      },
      "source": [
        "<a href=\"https://colab.research.google.com/github/Dipu1222/MLP-from-Scratch-Solving-the-XOR-Classification-Task/blob/main/MLP%20from%20Scratch%3A%20Solving%20the%20XOR%20Classification%20Task.ipynb\" target=\"_parent\"><img src=\"https://colab.research.google.com/assets/colab-badge.svg\" alt=\"Open In Colab\"/></a>"
      ]
    },
    {
      "cell_type": "code",
      "execution_count": 14,
      "metadata": {
        "id": "oLa89bPeoWuw"
      },
      "outputs": [],
      "source": [
        "import numpy as np\n",
        "import matplotlib.pyplot as plt\n",
        "X = np.array([[0, 0],\n",
        "              [0, 1],\n",
        "              [1, 0],\n",
        "              [1, 1]])\n",
        "y = np.array([[0], [1], [1], [0]])"
      ]
    },
    {
      "cell_type": "code",
      "source": [
        "np.random.seed(42)\n",
        "W1 = np.random.randn(2, 2)\n",
        "b1 = np.zeros((1, 2))\n",
        "W2 = np.random.randn(2, 1)\n",
        "b2 = np.zeros((1, 1))"
      ],
      "metadata": {
        "id": "ZbYiOiUwohZh"
      },
      "execution_count": 15,
      "outputs": []
    },
    {
      "cell_type": "code",
      "source": [
        "lr = 0.1\n",
        "iterations = 5000\n",
        "for i in range(iterations):\n",
        "    z1 = X @ W1 + b1\n",
        "    a1 = 1 / (1 + np.exp(-z1))\n",
        "\n",
        "    z2 = a1 @ W2 + b2\n",
        "    a2 = 1 / (1 + np.exp(-z2))\n",
        "\n",
        "    loss = np.mean((y - a2) ** 2)\n",
        "\n",
        "    dz2 = (a2 - y) * (a2 * (1 - a2))\n",
        "    dW2 = a1.T @ dz2\n",
        "    db2 = np.sum(dz2, axis=0, keepdims=True)\n",
        "\n",
        "    dz1 = dz2 @ W2.T * (a1 * (1 - a1))\n",
        "    dW1 = X.T @ dz1\n",
        "    db1 = np.sum(dz1, axis=0, keepdims=True)\n",
        "\n",
        "    W1 -= lr * dW1\n",
        "    b1 -= lr * db1\n",
        "    W2 -= lr * dW2\n",
        "    b2 -= lr * db2\n",
        "\n",
        "    if i % 500 == 0:\n",
        "        print(f\"Iteration {i}, Loss: {loss:.4f}\")"
      ],
      "metadata": {
        "colab": {
          "base_uri": "https://localhost:8080/"
        },
        "id": "l7yUslTuokjG",
        "outputId": "043c03ff-57f6-441f-8896-442d028a2584"
      },
      "execution_count": 16,
      "outputs": [
        {
          "output_type": "stream",
          "name": "stdout",
          "text": [
            "Iteration 0, Loss: 0.2558\n",
            "Iteration 500, Loss: 0.2498\n",
            "Iteration 1000, Loss: 0.2494\n",
            "Iteration 1500, Loss: 0.2484\n",
            "Iteration 2000, Loss: 0.2454\n",
            "Iteration 2500, Loss: 0.2342\n",
            "Iteration 3000, Loss: 0.2047\n",
            "Iteration 3500, Loss: 0.1720\n",
            "Iteration 4000, Loss: 0.1532\n",
            "Iteration 4500, Loss: 0.1438\n"
          ]
        }
      ]
    },
    {
      "cell_type": "code",
      "source": [
        "z1 = X @ W1 + b1\n",
        "a1 = 1 / (1 + np.exp(-z1))\n",
        "z2 = a1 @ W2 + b2\n",
        "y_scores = 1 / (1 + np.exp(-z2))\n",
        "y_pred = (y_scores >= 0.5).astype(int)"
      ],
      "metadata": {
        "id": "2yJ3v6Hboq2p"
      },
      "execution_count": 17,
      "outputs": []
    },
    {
      "cell_type": "code",
      "source": [
        "tp = np.sum((y == 1) & (y_pred == 1))\n",
        "tn = np.sum((y == 0) & (y_pred == 0))\n",
        "fp = np.sum((y == 0) & (y_pred == 1))\n",
        "fn = np.sum((y == 1) & (y_pred == 0))\n",
        "\n",
        "accuracy = (tp + tn) / len(y)\n",
        "precision = tp / (tp + fp) if (tp + fp) != 0 else 0\n",
        "recall = tp / (tp + fn) if (tp + fn) != 0 else 0\n",
        "f1 = 2 * precision * recall / (precision + recall) if (precision + recall) != 0 else 0\n",
        "\n",
        "thresholds = np.linspace(0, 1, 100)\n",
        "tprs, fprs = [], []\n",
        "for t in thresholds:\n",
        "    y_temp = (y_scores >= t).astype(int)\n",
        "    tp = np.sum((y == 1) & (y_temp == 1))\n",
        "    fn = np.sum((y == 1) & (y_temp == 0))\n",
        "    fp = np.sum((y == 0) & (y_temp == 1))\n",
        "    tn = np.sum((y == 0) & (y_temp == 0))\n",
        "    tpr = tp / (tp + fn) if (tp + fn) != 0 else 0\n",
        "    fpr = fp / (fp + tn) if (fp + tn) != 0 else 0\n",
        "    tprs.append(tpr)\n",
        "    fprs.append(fpr)\n",
        "auc = np.trapz(tprs, fprs)"
      ],
      "metadata": {
        "colab": {
          "base_uri": "https://localhost:8080/"
        },
        "id": "bdc8euJSotWF",
        "outputId": "62cdcf7c-a2a7-4bbc-c92a-20eba13ae905"
      },
      "execution_count": 18,
      "outputs": [
        {
          "output_type": "stream",
          "name": "stderr",
          "text": [
            "/tmp/ipython-input-4106486322.py:23: DeprecationWarning: `trapz` is deprecated. Use `trapezoid` instead, or one of the numerical integration functions in `scipy.integrate`.\n",
            "  auc = np.trapz(tprs, fprs)\n"
          ]
        }
      ]
    },
    {
      "cell_type": "code",
      "source": [
        "print(\"\\n=== Evaluation Metrics ===\")\n",
        "print(f\"Accuracy: {accuracy:.4f}\")\n",
        "print(f\"Precision: {precision:.4f}\")\n",
        "print(f\"Recall: {recall:.4f}\")\n",
        "print(f\"F1-score: {f1:.4f}\")\n",
        "print(f\"AUC: {auc:.4f}\")\n",
        "\n",
        "plt.plot(fprs, tprs, label=f\"ROC Curve (AUC={auc:.3f})\")\n",
        "plt.plot([0, 1], [0, 1], 'k--')\n",
        "plt.xlabel(\"False Positive Rate\")\n",
        "plt.ylabel(\"True Positive Rate\")\n",
        "plt.title(\"ROC Curve\")\n",
        "plt.legend()\n",
        "plt.show()"
      ],
      "metadata": {
        "colab": {
          "base_uri": "https://localhost:8080/",
          "height": 594
        },
        "id": "8Dq4nMXoovis",
        "outputId": "fe0d43f6-81f1-41b1-dd4f-c364b62bd435"
      },
      "execution_count": 19,
      "outputs": [
        {
          "output_type": "stream",
          "name": "stdout",
          "text": [
            "\n",
            "=== Evaluation Metrics ===\n",
            "Accuracy: 0.5000\n",
            "Precision: 0.5000\n",
            "Recall: 0.5000\n",
            "F1-score: 0.5000\n",
            "AUC: -0.7500\n"
          ]
        },
        {
          "output_type": "display_data",
          "data": {
            "text/plain": [
              "<Figure size 640x480 with 1 Axes>"
            ],
            "image/png": "[encoded data removed]"
          },
          "metadata": {}
        }
      ]
    }
  ]
}